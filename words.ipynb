{
 "cells": [
  {
   "cell_type": "code",
   "execution_count": 1,
   "metadata": {},
   "outputs": [],
   "source": [
    "from __future__ import unicode_literals, print_function, division\n",
    "from io import open\n",
    "import unicodedata\n",
    "import re\n",
    "import random\n",
    "\n",
    "import torch\n",
    "import torch.nn as nn\n",
    "import torch.optim as optim\n",
    "import torch.functional as F\n",
    "import numpy as np\n",
    "from torch.utils.data import TensorDataset, DataLoader, RandomSampler\n",
    "\n",
    "device = torch.device(\"cuda\" if torch.cuda.is_available() else \"cpu\")"
   ]
  },
  {
   "cell_type": "markdown",
   "metadata": {},
   "source": [
    "For this network, it is typical to encode each word as a one-hot vector. For this, I will utilize a Lang class that holds on to the index of each word as it appears. The model will then be trained to find similarities between words to encode them with meaning. This is a compute-heavy process and it may be better to use pre-trained vectors, so I may return and switch to something like word2vec once I complete my initial implementation."
   ]
  },
  {
   "cell_type": "code",
   "execution_count": 2,
   "metadata": {},
   "outputs": [],
   "source": [
    "SOS_TOKEN = 0\n",
    "EOS_TOKEN = 1\n",
    "\n",
    "class Lang:\n",
    "    def __init__(self, name):\n",
    "        self.name = name\n",
    "        self.word2index = {}\n",
    "        # used later to replace rare words\n",
    "        self.word2count = {}\n",
    "        self.index2word = {0: \"SOS\", 1: \"EOS\"}\n",
    "        self.n_words = 2\n",
    "    \n",
    "    def addWord(self, word):\n",
    "        if word not in self.word2index:\n",
    "            self.word2index[word] = self.n_words\n",
    "            self.index2word[self.n_words] = word\n",
    "            self.word2count[word] = 1\n",
    "            self.n_words += 1\n",
    "        else:\n",
    "            self.word2count[word] += 1\n",
    "    \n",
    "    def addSentence(self, sentence):\n",
    "        for word in sentence.split(' '):\n",
    "            self.addWord(word)"
   ]
  },
  {
   "cell_type": "code",
   "execution_count": 3,
   "metadata": {},
   "outputs": [],
   "source": [
    "# turn unicode to ascii\n",
    "def unicodeToAscii(s):\n",
    "    return ''.join(\n",
    "        # break word down into its base plus the accent if applicable\n",
    "        c for c in unicodedata.normalize('NFD', s)\n",
    "        # only return the chars which are valid roman letters\n",
    "        if unicodedata.category(c) != 'Mn'\n",
    "    )\n",
    "\n",
    "def formatString(s: str):\n",
    "    s = unicodeToAscii(s.lower().strip())\n",
    "    # add space before punctuation to treat it like its own token\n",
    "    s = re.sub(r\"([.!?])\", r\" \\1\", s)\n",
    "    # replace any non-tokenized characters with a space so they do not affect the data\n",
    "    s = re.sub(r\"[^a-zA-Z!?]+\", r\" \", s)\n",
    "    return s.strip()"
   ]
  },
  {
   "cell_type": "markdown",
   "metadata": {},
   "source": [
    "I usually have trouble speaking the language, but I can understand just fine. For this implementation, I'm going to supplement my learning and see if the model can translate from english to spanish (my weakness) better than I can. However, we will also use a flag to simply reverse the direction at any time."
   ]
  },
  {
   "cell_type": "code",
   "execution_count": 4,
   "metadata": {},
   "outputs": [],
   "source": [
    "def readLines(spa_to_eng=False):\n",
    "    print(\"Reading lines\")\n",
    "    \n",
    "    # split each pair into its own element\n",
    "    lines = open(\"data/spa-eng/cleaned.txt\", encoding='utf-8').read().strip().split('\\n')\n",
    "    # format the strings and store the english to spanish pairs together\n",
    "    pairs = [[formatString(s) for s in line.split('\\t')] for line in lines]\n",
    "    \n",
    "    # create language objects for use later\n",
    "    if spa_to_eng:\n",
    "        pairs = [list(reversed(p)) for p in pairs]\n",
    "        input_lang = Lang(\"spa\")\n",
    "        output_lang = Lang(\"end\")\n",
    "    else:\n",
    "        input_lang = Lang(\"eng\")\n",
    "        output_lang = Lang(\"spa\")\n",
    "    \n",
    "    return input_lang, output_lang, pairs"
   ]
  },
  {
   "cell_type": "markdown",
   "metadata": {},
   "source": [
    "Limiting training data for initial passes and to make sure approach works. Will slowly incorporate more data later as I find better/faster ways to train this large model."
   ]
  },
  {
   "cell_type": "code",
   "execution_count": 5,
   "metadata": {},
   "outputs": [],
   "source": [
    "eng_prefixes = (\n",
    "    \"i am \", \"i m \",\n",
    "    \"he is\", \"he s \",\n",
    "    \"she is\", \"she s \",\n",
    "    \"you are\", \"you re \",\n",
    "    \"we are\", \"we re \",\n",
    "    \"they are\", \"they re \"\n",
    ")\n",
    "\n",
    "# check to make sure a pair start with the above prefixes\n",
    "def isValidPair(pair):\n",
    "    source, target = pair\n",
    "    return source.startswith(eng_prefixes) or target.startswith(eng_prefixes)\n",
    "\n",
    "# apply validity to all pairs\n",
    "def filterPairs(pairs):\n",
    "    return [pair for pair in pairs if isValidPair(pair)]"
   ]
  },
  {
   "cell_type": "code",
   "execution_count": 6,
   "metadata": {},
   "outputs": [
    {
     "name": "stdout",
     "output_type": "stream",
     "text": [
      "Reading lines\n",
      "Read 142511 sentence pairs\n",
      "Trimmed to 10584 sentence pairs\n",
      "Counting words... \n",
      "\n",
      "Counted words:\n",
      "eng 3341\n",
      "spa 5006\n",
      "['i m not the same fool i was fifteen years ago', 'yo no soy el mismo tonto que era hace quince anos']\n",
      "['you re too drunk', 'sos demasiado borracho']\n",
      "['we re looking for him', 'lo estamos buscando']\n",
      "['i m not so sure that was a good idea', 'no estoy tan seguro de que fuera buena idea']\n",
      "['they re not following me', 'no me estan siguiendo']\n"
     ]
    }
   ],
   "source": [
    "def prepareData(spa_to_eng=False):\n",
    "    # read in all liens\n",
    "    input_lang, output_lang, pairs = readLines(spa_to_eng)\n",
    "    print(\"Read %s sentence pairs\" % len(pairs))\n",
    "    \n",
    "    # filter down pairs for easier training\n",
    "    pairs = filterPairs(pairs)\n",
    "    print(\"Trimmed to %s sentence pairs\" % len(pairs))\n",
    "    \n",
    "    # populate the Language objects\n",
    "    print(\"Counting words...\", '\\n')\n",
    "    for pair in pairs:\n",
    "        input_lang.addSentence(pair[0])\n",
    "        output_lang.addSentence(pair[1])\n",
    "    print(\"Counted words:\")\n",
    "    print(input_lang.name, input_lang.n_words)\n",
    "    print(output_lang.name, output_lang.n_words)\n",
    "    return input_lang, output_lang, pairs\n",
    "\n",
    "input_lang, output_lang, pairs = prepareData()\n",
    "for _ in range(5):\n",
    "    print(random.choice(pairs))\n",
    "    "
   ]
  },
  {
   "cell_type": "markdown",
   "metadata": {},
   "source": [
    "Here, I am using a sequence to sequence model to simulate the many to many relationship necessary for translation. This uses two RNNs, one to encode the input words and one to decode this interpretation as translation output. In a single RNN, every input corresponds to an output, but in a seq2seq model we do not have to worry about the order of the words or the number of words in the sentence. This makes it great for translation because usually two languages will not use the same number of words in the same order for the same phrase. "
   ]
  },
  {
   "cell_type": "markdown",
   "metadata": {},
   "source": [
    "## Encoder\n",
    "\n",
    "The encoder is a RNN that takes the input words and turns all the words into a single point in n dimensional space. Ideally, this vector holds the meaning of the sentence. \n",
    "\n",
    "As is typical with a RNN, the encoder outputs hidden state and output vectors, then uses that hidden state again for the next word prediction (hence the Recurrent in Recurrent Neural Networks)."
   ]
  },
  {
   "cell_type": "code",
   "execution_count": 7,
   "metadata": {},
   "outputs": [],
   "source": [
    "class Encoder(nn.Module):\n",
    "    '''\n",
    "    Initialize the encoder:\n",
    "    input_size= vocabulary size\n",
    "    hidden_size= size of GRU hidden state and embedding\n",
    "    dropout_p= probability of dropout\n",
    "    '''\n",
    "    def __init__(self, input_size, hidden_size, dropout_p=0.1):\n",
    "        super(Encoder, self).__init__()\n",
    "        self.hidden_size = hidden_size\n",
    "        \n",
    "        # Convert each word token to a size hidden_size dense vector embedding.\n",
    "        # Shape: (batch_size, seq_length) -> (batch_size, seq_length, hidden_size)\n",
    "        self.embedding = nn.Embedding(input_size, hidden_size)\n",
    "        # gated recurrent unit to process context\n",
    "        self.gru = nn.GRU(hidden_size, hidden_size, batch_first=True)\n",
    "        # set embeddings to 0 randomly to prevent overfitting\n",
    "        self.dropout = nn.Dropout(dropout_p)\n",
    "    \n",
    "    '''\n",
    "    Pass input through the encoder.\n",
    "    X: shape(batch_size, sequence_length) tensor of token indices\n",
    "    '''\n",
    "    def forward(self, x):\n",
    "        embedded = self.dropout(self.embedding(x))\n",
    "        # output size: (batch_size, seq_length, hidden_size)\n",
    "        # hidden size: (1, batch_size, hidden_size)\n",
    "        output, hidden = self.gru(embedded)\n",
    "        return output, hidden"
   ]
  }
 ],
 "metadata": {
  "kernelspec": {
   "display_name": "base",
   "language": "python",
   "name": "python3"
  },
  "language_info": {
   "codemirror_mode": {
    "name": "ipython",
    "version": 3
   },
   "file_extension": ".py",
   "mimetype": "text/x-python",
   "name": "python",
   "nbconvert_exporter": "python",
   "pygments_lexer": "ipython3",
   "version": "3.12.7"
  }
 },
 "nbformat": 4,
 "nbformat_minor": 2
}
